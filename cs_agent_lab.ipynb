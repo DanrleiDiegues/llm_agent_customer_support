{
 "cells": [
  {
   "cell_type": "code",
   "execution_count": 1,
   "metadata": {},
   "outputs": [],
   "source": [
    "import pandas as pd\n",
    "import pandas as pd"
   ]
  },
  {
   "cell_type": "markdown",
   "metadata": {},
   "source": [
    "### Creating File with the data"
   ]
  },
  {
   "cell_type": "code",
   "execution_count": 5,
   "metadata": {},
   "outputs": [],
   "source": [
    "# Ajustando para garantir que todas as listas tenham o mesmo comprimento (30 itens)\n",
    "data_produtos_tec = {\n",
    "    \"id\": list(range(1, 31)),\n",
    "    \"nome\": [\n",
    "        \"Notebook Dell XPS 13\", \"Smartphone Samsung Galaxy S23\", \"Monitor LG UltraWide 34\\\"\",\n",
    "        \"Fone de Ouvido Sony WH-1000XM5\", \"Teclado Mecânico Logitech G Pro X\",\n",
    "        \"Tablet Samsung Galaxy Tab S8\", \"Câmera Sony Alpha 7 IV\", \"Mouse Razer DeathAdder V2\",\n",
    "        \"Placa de Vídeo NVIDIA RTX 3080\", \"Carregador Wireless Anker\", \n",
    "        \"Fone de Ouvido Bose QuietComfort 35 II\", \"Impressora HP LaserJet Pro\", \n",
    "        \"Teclado Bluetooth Logitech K780\", \"Monitor BenQ 24\\\" Full HD\", \"Projetor Epson Home Cinema 2150\", \n",
    "        \"Placa Mãe ASUS ROG Crosshair\", \"SSD Samsung 970 Evo Plus 1TB\", \"Câmera Webcam Logitech C920\", \n",
    "        \"Mouse Logitech MX Master 3\", \"Headset HyperX Cloud II\", \"Cabo HDMI 4K UGREEN\", \n",
    "        \"Smartwatch Apple Watch Series 7\", \"Tablet Apple iPad Pro\", \"Monitor Dell 27\\\" 4K\", \n",
    "        \"Teclado Mecânico Corsair K95 RGB\", \"Notebook Lenovo ThinkPad X1 Carbon\", \n",
    "        \"Carregador Portátil Anker PowerCore 26800\", \"Fone de Ouvido JBL Tune 500BT\", \n",
    "        \"Computador Desktop Gamer\", \"Câmera Instantânea Fujifilm Instax Mini 11\"\n",
    "    ],\n",
    "    \"descricao\": [\n",
    "        \"Notebook compacto e potente, com tela de 13 polegadas e processador i7.\",\n",
    "        \"Smartphone com câmera de 200MP e bateria de longa duração.\",\n",
    "        \"Monitor ultrawide com resolução 1440p, ideal para trabalho e jogos.\",\n",
    "        \"Fones de ouvido com cancelamento de ruído e áudio de alta qualidade.\",\n",
    "        \"Teclado mecânico com switches customizáveis e iluminação RGB.\",\n",
    "        \"Tablet com tela AMOLED e alto desempenho para produtividade e entretenimento.\",\n",
    "        \"Câmera mirrorless com excelente desempenho em baixa luminosidade e 4K.\",\n",
    "        \"Mouse ergonômico e preciso para gamers e profissionais.\",\n",
    "        \"Placa de vídeo para gamers e criadores de conteúdo com alto desempenho.\",\n",
    "        \"Carregador sem fio eficiente e compatível com vários dispositivos.\",\n",
    "        \"Fones de ouvido com qualidade de áudio imersiva e cancelamento de ruído.\",\n",
    "        \"Impressora multifuncional para uso doméstico e escritório.\",\n",
    "        \"Teclado sem fio, com design compacto e suporte para múltiplos dispositivos.\",\n",
    "        \"Monitor de 24\\\" com boa qualidade de imagem para uso diário.\",\n",
    "        \"Projetor Full HD para entretenimento e apresentações.\",\n",
    "        \"Placa mãe de alto desempenho para PCs gamers e criadores.\",\n",
    "        \"SSD NVMe rápido para melhorar o desempenho do seu computador.\",\n",
    "        \"Webcam Full HD ideal para videoconferências e streaming.\",\n",
    "        \"Mouse com design ergonômico e botões programáveis.\",\n",
    "        \"Headset com som surround e microfone de alta qualidade.\",\n",
    "        \"Cabo HDMI 4K com alta velocidade de transferência de dados.\",\n",
    "        \"Smartwatch com monitoramento de saúde e integração com dispositivos Apple.\",\n",
    "        \"Tablet de alto desempenho com Apple Pencil e display Retina.\",\n",
    "        \"Monitor 4K com precisão de cores, ideal para designers e criadores.\",\n",
    "        \"Teclado mecânico com teclas dedicadas para produtividade e jogos.\",\n",
    "        \"Notebook com desempenho avançado, ideal para profissionais de TI.\",\n",
    "        \"Carregador portátil de alta capacidade para viagens e emergências.\",\n",
    "        \"Fones de ouvido Bluetooth com som de qualidade e design confortável.\",\n",
    "        \"Desktop gamer com alto desempenho para jogos e edição de vídeo.\",\n",
    "        \"Câmera instantânea para fotos divertidas e compartilhamento imediato.\"\n",
    "    ],\n",
    "    \"preco\": [\n",
    "        5500.00, 4000.00, 2500.00, 1800.00, 700.00,\n",
    "        2200.00, 10000.00, 400.00, 3500.00, 200.00,\n",
    "        1300.00, 1500.00, 250.00, 800.00, 2200.00,\n",
    "        3500.00, 450.00, 90.00, 700.00, 1200.00,\n",
    "        2000.00, 2500.00, 2700.00, 1800.00, 5000.00,\n",
    "        1500.00, 200.00, 1100.00, 1500.00, 3500.00,\n",
    "    ],\n",
    "    \"estoque\": [\n",
    "        15, 30, 8, 25, 50, 12, 5, 20, 10, 100,\n",
    "        40, 60, 30, 15, 8, 20, 10, 50, 35, 45,\n",
    "        50, 20, 30, 15, 18, 30, 12, 25, 10, 50,\n",
    "    ],\n",
    "    \"categoria\": [\n",
    "        \"Notebook\", \"Smartphone\", \"Monitor\", \"Fone de Ouvido\", \"Teclado\",\n",
    "        \"Tablet\", \"Câmera\", \"Mouse\", \"Placa de Vídeo\", \"Carregador\",\n",
    "        \"Fone de Ouvido\", \"Impressora\", \"Teclado\", \"Monitor\", \"Projetor\",\n",
    "        \"Placa Mãe\", \"SSD\", \"Webcam\", \"Mouse\", \"Headset\",\n",
    "        \"Cabo\", \"Smartwatch\", \"Tablet\", \"Monitor\", \"Teclado\",\n",
    "        \"Notebook\", \"Carregador\", \"Fone de Ouvido\", \"Computador\", \"Câmera Instantânea\"\n",
    "    ]\n",
    "}\n",
    "\n",
    "# Criando o DataFrame com os novos dados corrigidos\n",
    "df_produtos_tec = pd.DataFrame(data_produtos_tec)\n",
    "\n",
    "# Salvando o DataFrame atualizado em um arquivo CSV\n",
    "csv_file_path_produtos_tec = \"data_base/produtos_tec.csv\"\n",
    "df_produtos_tec.to_csv(csv_file_path_produtos_tec, index=False)"
   ]
  },
  {
   "cell_type": "code",
   "execution_count": 2,
   "metadata": {},
   "outputs": [
    {
     "ename": "NameError",
     "evalue": "name 'df_produtos_tec' is not defined",
     "output_type": "error",
     "traceback": [
      "\u001b[1;31m---------------------------------------------------------------------------\u001b[0m",
      "\u001b[1;31mNameError\u001b[0m                                 Traceback (most recent call last)",
      "Cell \u001b[1;32mIn[2], line 1\u001b[0m\n\u001b[1;32m----> 1\u001b[0m \u001b[43mdf_produtos_tec\u001b[49m\n",
      "\u001b[1;31mNameError\u001b[0m: name 'df_produtos_tec' is not defined"
     ]
    }
   ],
   "source": [
    "df_produtos_tec"
   ]
  },
  {
   "cell_type": "markdown",
   "metadata": {},
   "source": [
    "## Create a Local Database"
   ]
  },
  {
   "cell_type": "markdown",
   "metadata": {},
   "source": [
    "## Create a local database\n",
    "\n",
    "For this minimal example, you'll create a local SQLite database and add some synthetic data so you have something to query.\n",
    "\n",
    "Load the `sql` IPython extension so you can interact with the database using magic commands (the `%` instructions) to create a new, empty SQLite database."
   ]
  },
  {
   "cell_type": "code",
   "execution_count": 30,
   "metadata": {},
   "outputs": [],
   "source": [
    "# Load the SQL extension\n",
    "%load_ext sql\n",
    "\n",
    "# Connect to the SQLite database\n",
    "%sql sqlite:///my_database.db"
   ]
  },
  {
   "cell_type": "code",
   "execution_count": null,
   "metadata": {},
   "outputs": [],
   "source": [
    "# Now you can execute SQL queries using the magic %%sql\n",
    "# For example:\n",
    "\n",
    "%%sql\n",
    "SELECT * FROM produtos_tec \n",
    "WHERE categoria = 'Notebook' \n",
    "ORDER BY preco DESC;"
   ]
  },
  {
   "cell_type": "code",
   "execution_count": 6,
   "metadata": {},
   "outputs": [],
   "source": [
    "import sqlite3\n",
    "\n",
    "# Function to connect to the database\n",
    "def connect_to_database(db_path):\n",
    "    try:\n",
    "        conn = sqlite3.connect(db_path)  # Path to the database file\n",
    "        print(\"Connection to the database successful!\")\n",
    "        return conn\n",
    "    except sqlite3.Error as e:\n",
    "        print(\"Error connecting to the database:\", e)\n",
    "        return None"
   ]
  },
  {
   "cell_type": "code",
   "execution_count": 3,
   "metadata": {},
   "outputs": [],
   "source": [
    "# Function to search the database\n",
    "def search_database(conn, query):\n",
    "    try:\n",
    "        cursor = conn.cursor()  # Create a cursor to execute commands on the database\n",
    "        # Search in the \"produtos\" table for names similar to the term searched\n",
    "        cursor.execute(\"SELECT * FROM produtos_tec WHERE nome LIKE ?\", (f\"%{query}%\",))\n",
    "        results = cursor.fetchall()  # Get all the results from the query\n",
    "        return results\n",
    "    except sqlite3.Error as e:\n",
    "        print(\"Error performing query:\", e)\n",
    "        return []"
   ]
  },
  {
   "cell_type": "markdown",
   "metadata": {},
   "source": [
    "### Insert the data from the CSV file into the produtos table"
   ]
  },
  {
   "cell_type": "code",
   "execution_count": 4,
   "metadata": {},
   "outputs": [
    {
     "name": "stdout",
     "output_type": "stream",
     "text": [
      "Data inserted successfully into the database!\n"
     ]
    }
   ],
   "source": [
    "import sqlite3\n",
    "import pandas as pd\n",
    "\n",
    "# 1. Load the data from the CSV file\n",
    "df_produtos_tec = pd.read_csv('data_base/produtos_tec.csv')\n",
    "\n",
    "# 2. Connect to the SQLite database (create the database, if it doesn't exist)\n",
    "conn = sqlite3.connect('my_database.db')\n",
    "\n",
    "# 3. Create a cursor to execute SQL commands\n",
    "cursor = conn.cursor()\n",
    "\n",
    "# 4. Recreate the produtos table with all the necessary columns\n",
    "cursor.execute('''DROP TABLE IF EXISTS produtos_tec''')  # First remove the existing table\n",
    "cursor.execute('''\n",
    "    CREATE TABLE produtos_tec (\n",
    "        id INTEGER PRIMARY KEY,\n",
    "        nome TEXT NOT NULL,\n",
    "        descricao TEXT NOT NULL,\n",
    "        preco REAL NOT NULL,\n",
    "        estoque INTEGER NOT NULL,\n",
    "        categoria TEXT NOT NULL\n",
    "    );\n",
    "''')\n",
    "\n",
    "# 5. Insert the data from the CSV file into the produtos table\n",
    "produtos_tec_data = df_produtos_tec.values.tolist()\n",
    "\n",
    "cursor.executemany('''\n",
    "    INSERT INTO produtos_tec (id, nome, descricao, preco, estoque, categoria) \n",
    "    VALUES (?, ?, ?, ?, ?, ?)\n",
    "''', produtos_tec_data)\n",
    "\n",
    "# 6. Save (commit) the changes to the database\n",
    "conn.commit()\n",
    "\n",
    "# 7. Close the connection\n",
    "conn.close()\n",
    "\n",
    "print(\"Data inserted successfully into the database!\")"
   ]
  },
  {
   "cell_type": "markdown",
   "metadata": {},
   "source": [
    "### Function to search the database"
   ]
  },
  {
   "cell_type": "code",
   "execution_count": 7,
   "metadata": {},
   "outputs": [
    {
     "name": "stdout",
     "output_type": "stream",
     "text": [
      "Connection to the database successful!\n",
      "No results found.\n"
     ]
    }
   ],
   "source": [
    "if __name__ == \"__main__\":\n",
    "    \n",
    "    # 1. Connect to the database\n",
    "    database_path = \"my_database.db\"  # Path to the database\n",
    "    conn = connect_to_database(database_path)    \n",
    "    \n",
    "    if conn:  # If the connection is successful\n",
    "        # 2. Ask the user for the term to search\n",
    "        termo = input(\"Enter the name of the product you want to search: \")\n",
    "\n",
    "        # 3. Perform the query on the database\n",
    "        resultados = search_database(conn, termo)\n",
    "\n",
    "        # 4. Display the results\n",
    "        if resultados:\n",
    "            print(\"Results found:\")\n",
    "            for linha in resultados:\n",
    "                print(f\"ID: {linha[0]}, Name: {linha[1]}, Description: {linha[2]}, Price: R${linha[3]:.2f}\")\n",
    "        else:\n",
    "            print(\"No results found.\")\n",
    "\n",
    "        # 5. Close the connection\n",
    "        conn.close()"
   ]
  },
  {
   "cell_type": "markdown",
   "metadata": {},
   "source": [
    "## Creating an agent to search the database\n"
   ]
  },
  {
   "cell_type": "code",
   "execution_count": 8,
   "metadata": {},
   "outputs": [],
   "source": [
    "import google.generativeai as genai\n",
    "\n",
    "genai.configure(api_key=\"GOOGLE_API_KEY\")"
   ]
  },
  {
   "cell_type": "markdown",
   "metadata": {},
   "source": [
    "## Define database functions\n",
    "\n",
    "Function calling with Gemini API's Python SDK can be implemented by defining [an OpenAPI schema](https://ai.google.dev/api/caching#Schema) that is passed to the model. Alternatively you can define Python functions and let the SDK inspect them to automatically define the schema. In this latter case, it's important that the functions are type annotated and have accurate docstrings that describe what the functions do - the model has no insight into the function body, so the docs function as the interface.\n",
    "\n",
    "By providing three key pieces of functionality - listing tables, describing a table, and executing a query - the LLM (or even another user) will have the basic tools needed to understand and interrogate the database.\n",
    "\n",
    "Start with a database connection that will be used across all of the functions."
   ]
  },
  {
   "cell_type": "code",
   "execution_count": 9,
   "metadata": {},
   "outputs": [],
   "source": [
    "import sqlite3\n",
    "\n",
    "db_file = \"my_database.db\"\n",
    "db_conn = sqlite3.connect(db_file)"
   ]
  },
  {
   "cell_type": "markdown",
   "metadata": {},
   "source": [
    "The first function will list all tables available in the database. Define it, and test it out to ensure it works."
   ]
  },
  {
   "cell_type": "code",
   "execution_count": 10,
   "metadata": {},
   "outputs": [
    {
     "name": "stdout",
     "output_type": "stream",
     "text": [
      " - DB CALL: list_tables\n"
     ]
    },
    {
     "data": {
      "text/plain": [
       "['produtos_tec']"
      ]
     },
     "execution_count": 10,
     "metadata": {},
     "output_type": "execute_result"
    }
   ],
   "source": [
    "def list_tables() -> list[str]:\n",
    "    \"\"\"Retrieve the names of all tables in the database.\"\"\"\n",
    "    # Include print logging statements so you can see when functions are being called.\n",
    "    print(' - DB CALL: list_tables')\n",
    "\n",
    "    cursor = db_conn.cursor()\n",
    "\n",
    "    # Fetch the table names.\n",
    "    cursor.execute(\"SELECT name FROM sqlite_master WHERE type='table';\")\n",
    "\n",
    "    tables = cursor.fetchall()\n",
    "    return [t[0] for t in tables]\n",
    "\n",
    "list_tables()"
   ]
  },
  {
   "cell_type": "markdown",
   "metadata": {},
   "source": [
    "Once the available tables is known, the next step a database user will need is to understand what columns are available in a given table. Define that too, and test that it works as expected."
   ]
  },
  {
   "cell_type": "code",
   "execution_count": 11,
   "metadata": {},
   "outputs": [
    {
     "name": "stdout",
     "output_type": "stream",
     "text": [
      " - DB CALL: describe_table\n"
     ]
    },
    {
     "data": {
      "text/plain": [
       "[('id', 'INTEGER'),\n",
       " ('nome', 'TEXT'),\n",
       " ('descricao', 'TEXT'),\n",
       " ('preco', 'REAL'),\n",
       " ('estoque', 'INTEGER'),\n",
       " ('categoria', 'TEXT')]"
      ]
     },
     "execution_count": 11,
     "metadata": {},
     "output_type": "execute_result"
    }
   ],
   "source": [
    "def describe_table(table_name: str) -> list[tuple[str, str]]:\n",
    "    \"\"\"Look up the table schema.\n",
    "\n",
    "    Returns:\n",
    "      List of columns, where each entry is a tuple of (column, type).\n",
    "    \"\"\"\n",
    "    print(' - DB CALL: describe_table')\n",
    "\n",
    "    cursor = db_conn.cursor()\n",
    "\n",
    "    cursor.execute(f\"PRAGMA table_info({table_name});\")\n",
    "\n",
    "    schema = cursor.fetchall()\n",
    "    # [column index, column name, column type, ...]\n",
    "    return [(col[1], col[2]) for col in schema]\n",
    "\n",
    "\n",
    "describe_table(\"produtos_tec\")"
   ]
  },
  {
   "cell_type": "markdown",
   "metadata": {},
   "source": [
    "Now that the system knows what tables and columns are present, it has enough information to be able to generate and run a `SELECT` query. Now provide that functionality, and test that it works."
   ]
  },
  {
   "cell_type": "code",
   "execution_count": 12,
   "metadata": {},
   "outputs": [
    {
     "name": "stdout",
     "output_type": "stream",
     "text": [
      " - DB CALL: execute_query\n"
     ]
    },
    {
     "data": {
      "text/plain": [
       "[(1,\n",
       "  'Notebook Dell XPS 13',\n",
       "  'Notebook compacto e potente, com tela de 13 polegadas e processador i7.',\n",
       "  5500.0,\n",
       "  15,\n",
       "  'Notebook'),\n",
       " (2,\n",
       "  'Smartphone Samsung Galaxy S23',\n",
       "  'Smartphone com câmera de 200MP e bateria de longa duração.',\n",
       "  4000.0,\n",
       "  30,\n",
       "  'Smartphone'),\n",
       " (3,\n",
       "  'Monitor LG UltraWide 34\"',\n",
       "  'Monitor ultrawide com resolução 1440p, ideal para trabalho e jogos.',\n",
       "  2500.0,\n",
       "  8,\n",
       "  'Monitor'),\n",
       " (4,\n",
       "  'Fone de Ouvido Sony WH-1000XM5',\n",
       "  'Fones de ouvido com cancelamento de ruído e áudio de alta qualidade.',\n",
       "  1800.0,\n",
       "  25,\n",
       "  'Fone de Ouvido'),\n",
       " (5,\n",
       "  'Teclado Mecânico Logitech G Pro X',\n",
       "  'Teclado mecânico com switches customizáveis e iluminação RGB.',\n",
       "  700.0,\n",
       "  50,\n",
       "  'Teclado'),\n",
       " (6,\n",
       "  'Tablet Samsung Galaxy Tab S8',\n",
       "  'Tablet com tela AMOLED e alto desempenho para produtividade e entretenimento.',\n",
       "  2200.0,\n",
       "  12,\n",
       "  'Tablet'),\n",
       " (7,\n",
       "  'Câmera Sony Alpha 7 IV',\n",
       "  'Câmera mirrorless com excelente desempenho em baixa luminosidade e 4K.',\n",
       "  10000.0,\n",
       "  5,\n",
       "  'Câmera'),\n",
       " (8,\n",
       "  'Mouse Razer DeathAdder V2',\n",
       "  'Mouse ergonômico e preciso para gamers e profissionais.',\n",
       "  400.0,\n",
       "  20,\n",
       "  'Mouse'),\n",
       " (9,\n",
       "  'Placa de Vídeo NVIDIA RTX 3080',\n",
       "  'Placa de vídeo para gamers e criadores de conteúdo com alto desempenho.',\n",
       "  3500.0,\n",
       "  10,\n",
       "  'Placa de Vídeo'),\n",
       " (10,\n",
       "  'Carregador Wireless Anker',\n",
       "  'Carregador sem fio eficiente e compatível com vários dispositivos.',\n",
       "  200.0,\n",
       "  100,\n",
       "  'Carregador'),\n",
       " (11,\n",
       "  'Fone de Ouvido Bose QuietComfort 35 II',\n",
       "  'Fones de ouvido com qualidade de áudio imersiva e cancelamento de ruído.',\n",
       "  1300.0,\n",
       "  40,\n",
       "  'Fone de Ouvido'),\n",
       " (12,\n",
       "  'Impressora HP LaserJet Pro',\n",
       "  'Impressora multifuncional para uso doméstico e escritório.',\n",
       "  1500.0,\n",
       "  60,\n",
       "  'Impressora'),\n",
       " (13,\n",
       "  'Teclado Bluetooth Logitech K780',\n",
       "  'Teclado sem fio, com design compacto e suporte para múltiplos dispositivos.',\n",
       "  250.0,\n",
       "  30,\n",
       "  'Teclado'),\n",
       " (14,\n",
       "  'Monitor BenQ 24\" Full HD',\n",
       "  'Monitor de 24\" com boa qualidade de imagem para uso diário.',\n",
       "  800.0,\n",
       "  15,\n",
       "  'Monitor'),\n",
       " (15,\n",
       "  'Projetor Epson Home Cinema 2150',\n",
       "  'Projetor Full HD para entretenimento e apresentações.',\n",
       "  2200.0,\n",
       "  8,\n",
       "  'Projetor'),\n",
       " (16,\n",
       "  'Placa Mãe ASUS ROG Crosshair',\n",
       "  'Placa mãe de alto desempenho para PCs gamers e criadores.',\n",
       "  3500.0,\n",
       "  20,\n",
       "  'Placa Mãe'),\n",
       " (17,\n",
       "  'SSD Samsung 970 Evo Plus 1TB',\n",
       "  'SSD NVMe rápido para melhorar o desempenho do seu computador.',\n",
       "  450.0,\n",
       "  10,\n",
       "  'SSD'),\n",
       " (18,\n",
       "  'Câmera Webcam Logitech C920',\n",
       "  'Webcam Full HD ideal para videoconferências e streaming.',\n",
       "  90.0,\n",
       "  50,\n",
       "  'Webcam'),\n",
       " (19,\n",
       "  'Mouse Logitech MX Master 3',\n",
       "  'Mouse com design ergonômico e botões programáveis.',\n",
       "  700.0,\n",
       "  35,\n",
       "  'Mouse'),\n",
       " (20,\n",
       "  'Headset HyperX Cloud II',\n",
       "  'Headset com som surround e microfone de alta qualidade.',\n",
       "  1200.0,\n",
       "  45,\n",
       "  'Headset'),\n",
       " (21,\n",
       "  'Cabo HDMI 4K UGREEN',\n",
       "  'Cabo HDMI 4K com alta velocidade de transferência de dados.',\n",
       "  2000.0,\n",
       "  50,\n",
       "  'Cabo'),\n",
       " (22,\n",
       "  'Smartwatch Apple Watch Series 7',\n",
       "  'Smartwatch com monitoramento de saúde e integração com dispositivos Apple.',\n",
       "  2500.0,\n",
       "  20,\n",
       "  'Smartwatch'),\n",
       " (23,\n",
       "  'Tablet Apple iPad Pro',\n",
       "  'Tablet de alto desempenho com Apple Pencil e display Retina.',\n",
       "  2700.0,\n",
       "  30,\n",
       "  'Tablet'),\n",
       " (24,\n",
       "  'Monitor Dell 27\" 4K',\n",
       "  'Monitor 4K com precisão de cores, ideal para designers e criadores.',\n",
       "  1800.0,\n",
       "  15,\n",
       "  'Monitor'),\n",
       " (25,\n",
       "  'Teclado Mecânico Corsair K95 RGB',\n",
       "  'Teclado mecânico com teclas dedicadas para produtividade e jogos.',\n",
       "  5000.0,\n",
       "  18,\n",
       "  'Teclado'),\n",
       " (26,\n",
       "  'Notebook Lenovo ThinkPad X1 Carbon',\n",
       "  'Notebook com desempenho avançado, ideal para profissionais de TI.',\n",
       "  1500.0,\n",
       "  30,\n",
       "  'Notebook'),\n",
       " (27,\n",
       "  'Carregador Portátil Anker PowerCore 26800',\n",
       "  'Carregador portátil de alta capacidade para viagens e emergências.',\n",
       "  200.0,\n",
       "  12,\n",
       "  'Carregador'),\n",
       " (28,\n",
       "  'Fone de Ouvido JBL Tune 500BT',\n",
       "  'Fones de ouvido Bluetooth com som de qualidade e design confortável.',\n",
       "  1100.0,\n",
       "  25,\n",
       "  'Fone de Ouvido'),\n",
       " (29,\n",
       "  'Computador Desktop Gamer',\n",
       "  'Desktop gamer com alto desempenho para jogos e edição de vídeo.',\n",
       "  1500.0,\n",
       "  10,\n",
       "  'Computador'),\n",
       " (30,\n",
       "  'Câmera Instantânea Fujifilm Instax Mini 11',\n",
       "  'Câmera instantânea para fotos divertidas e compartilhamento imediato.',\n",
       "  3500.0,\n",
       "  50,\n",
       "  'Câmera Instantânea')]"
      ]
     },
     "execution_count": 12,
     "metadata": {},
     "output_type": "execute_result"
    }
   ],
   "source": [
    "def execute_query(sql: str) -> list[list[str]]:\n",
    "    \"\"\"Execute a SELECT statement, returning the results.\"\"\"\n",
    "    print(' - DB CALL: execute_query')\n",
    "\n",
    "    cursor = db_conn.cursor()\n",
    "\n",
    "    cursor.execute(sql)\n",
    "    return cursor.fetchall()\n",
    "\n",
    "\n",
    "execute_query(\"select * from produtos_tec\")"
   ]
  },
  {
   "cell_type": "markdown",
   "metadata": {},
   "source": [
    "### Implementing Function Calling\n"
   ]
  },
  {
   "cell_type": "code",
   "execution_count": 13,
   "metadata": {},
   "outputs": [],
   "source": [
    "# These are the Python functions defined above.\n",
    "db_tools = [list_tables, describe_table, execute_query]\n",
    "\n",
    "SYSTEM_INSTRUCTION = \"\"\"You are a helpful Customer Service Agent for a computer store. You will take the users questions and turn them into SQL queries using the tools\n",
    "available. \n",
    "\n",
    "DATABASE INFORMATION:\n",
    "- Table name: produtos_tec\n",
    "- Columns: id, nome, descricao, preco, estoque, categoria\n",
    "\n",
    "IMPORTANT SQL RULES:\n",
    "- Always use UPPER() or LOWER() for text comparisons (e.g., WHERE UPPER(categoria) = UPPER('Notebook'))\n",
    "- Ensure case-insensitive matching in all text searches\n",
    "- Use proper SQLite syntax\n",
    "\n",
    "AVAILABLE TOOLS:\n",
    "- list_tables: to see what tables are present\n",
    "- describe_table: to understand the schema\n",
    "- execute_query: to issue SQL SELECT queries\n",
    "\n",
    "When responding to users:\n",
    "1. Generate appropriate SQL queries using the rules above\n",
    "2. Use the query results to provide helpful, customer-friendly responses\n",
    "3. Include relevant product details in your answers\n",
    "\"\"\"\n",
    "\n",
    "model = genai.GenerativeModel(\n",
    "    \"models/gemini-1.5-flash-latest\", tools=db_tools, system_instruction=SYSTEM_INSTRUCTION\n",
    ")\n",
    "\n",
    "# Define a retry policy. The model might make multiple consecutive calls automatically\n",
    "# for a complex query, this ensures the client retries if it hits quota limits.\n",
    "from google.api_core import retry\n",
    "\n",
    "retry_policy = {\"retry\": retry.Retry(predicate=retry.if_transient_error)}\n",
    "\n",
    "# Start a chat with automatic function calling enabled.\n",
    "chat = model.start_chat(enable_automatic_function_calling=True)"
   ]
  },
  {
   "cell_type": "markdown",
   "metadata": {},
   "source": [
    "##### Example of question and answer\n",
    "\n",
    "- What is the cheapest product?\n",
    "- What is the most expensive product?\n",
    "- What is the most expensive product in the notebook category?\n"
   ]
  },
  {
   "cell_type": "code",
   "execution_count": 14,
   "metadata": {},
   "outputs": [
    {
     "name": "stdout",
     "output_type": "stream",
     "text": [
      " - DB CALL: execute_query\n",
      "The cheapest product in our store is the Câmera Webcam Logitech C920, priced at R$ 90.00.\n",
      "\n"
     ]
    }
   ],
   "source": [
    "resp = chat.send_message(\"What is the cheapest product?\", request_options=retry_policy)\n",
    "print(resp.text)"
   ]
  },
  {
   "cell_type": "code",
   "execution_count": 15,
   "metadata": {},
   "outputs": [
    {
     "name": "stdout",
     "output_type": "stream",
     "text": [
      " - DB CALL: execute_query\n",
      "We have two products in the 'Mouse' category:\n",
      "\n",
      "- Mouse Razer DeathAdder V2: R$ 400.00\n",
      "- Mouse Logitech MX Master 3: R$ 700.00\n",
      "\n",
      "\n"
     ]
    }
   ],
   "source": [
    "resp = chat.send_message(\"What are the products in the 'Mouse' category?\", request_options=retry_policy)\n",
    "print(resp.text)"
   ]
  },
  {
   "cell_type": "code",
   "execution_count": 16,
   "metadata": {},
   "outputs": [
    {
     "data": {
      "application/vnd.jupyter.widget-view+json": {
       "model_id": "c73cb82f6d544109be3fd9c649b0617b",
       "version_major": 2,
       "version_minor": 0
      },
      "text/plain": [
       "Text(value='', layout=Layout(width='500px'), placeholder='Type your message here...')"
      ]
     },
     "metadata": {},
     "output_type": "display_data"
    },
    {
     "data": {
      "application/vnd.jupyter.widget-view+json": {
       "model_id": "6b55e667a1354d23b9b127ed1fcee3ef",
       "version_major": 2,
       "version_minor": 0
      },
      "text/plain": [
       "Button(description='Send', style=ButtonStyle())"
      ]
     },
     "metadata": {},
     "output_type": "display_data"
    },
    {
     "data": {
      "application/vnd.jupyter.widget-view+json": {
       "model_id": "ba9204bd140f4e85921deae5898d0ef9",
       "version_major": 2,
       "version_minor": 0
      },
      "text/plain": [
       "Output()"
      ]
     },
     "metadata": {},
     "output_type": "display_data"
    }
   ],
   "source": [
    "from ipywidgets import widgets\n",
    "from IPython.display import display, clear_output\n",
    "\n",
    "# Create widgets\n",
    "text_input = widgets.Text(\n",
    "    value='',\n",
    "    placeholder='Type your message here...',\n",
    "    description='',\n",
    "    layout={'width': '500px'}\n",
    ")\n",
    "send_button = widgets.Button(description=\"Send\")\n",
    "output_area = widgets.Output()\n",
    "\n",
    "# Chat history display\n",
    "def on_send_clicked(b):\n",
    "    with output_area:\n",
    "        print(chat.history)\n",
    "        clear_output()\n",
    "        response = chat.send_message(text_input.value, request_options=retry_policy)\n",
    "        print(f\"You: {text_input.value}\")\n",
    "        print(f\"Assistant: {response.text}\\n\")\n",
    "        text_input.value = ''  # Clear input\n",
    "\n",
    "send_button.on_click(on_send_clicked)\n",
    "\n",
    "# Display interface\n",
    "display(text_input, send_button, output_area)"
   ]
  },
  {
   "cell_type": "code",
   "execution_count": null,
   "metadata": {},
   "outputs": [],
   "source": []
  }
 ],
 "metadata": {
  "kernelspec": {
   "display_name": "Python 3",
   "language": "python",
   "name": "python3"
  },
  "language_info": {
   "codemirror_mode": {
    "name": "ipython",
    "version": 3
   },
   "file_extension": ".py",
   "mimetype": "text/x-python",
   "name": "python",
   "nbconvert_exporter": "python",
   "pygments_lexer": "ipython3",
   "version": "3.9.21"
  }
 },
 "nbformat": 4,
 "nbformat_minor": 2
}
